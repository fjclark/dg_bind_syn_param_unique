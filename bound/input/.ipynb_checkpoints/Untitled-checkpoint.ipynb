{
 "cells": [
  {
   "cell_type": "code",
   "execution_count": 1,
   "id": "820edbda",
   "metadata": {},
   "outputs": [
    {
     "name": "stdout",
     "output_type": "stream",
     "text": [
      "\n",
      "==============================================================\n",
      "Sending anonymous Sire usage statistics to http://siremol.org.\n",
      "For more information, see http://siremol.org/analytics\n",
      "To disable, set the environment variable 'SIRE_DONT_PHONEHOME' to 1\n",
      "To see the information sent, set the environment variable \n",
      "SIRE_VERBOSE_PHONEHOME equal to 1. To silence this message, set\n",
      "the environment variable SIRE_SILENT_PHONEHOME to 1.\n",
      "==============================================================\n",
      "\n"
     ]
    }
   ],
   "source": [
    "import BioSimSpace as BSS"
   ]
  },
  {
   "cell_type": "code",
   "execution_count": 19,
   "id": "56128e52",
   "metadata": {},
   "outputs": [],
   "source": [
    "system = BSS.IO.readMolecules([\"SYSTEM.crd\", \"SYSTEM.top\"])"
   ]
  },
  {
   "cell_type": "code",
   "execution_count": 20,
   "id": "bb84f029",
   "metadata": {},
   "outputs": [
    {
     "data": {
      "text/plain": [
       "BioSimSpace._SireWrappers._system.System"
      ]
     },
     "execution_count": 20,
     "metadata": {},
     "output_type": "execute_result"
    }
   ],
   "source": [
    "type(system)"
   ]
  },
  {
   "cell_type": "code",
   "execution_count": 24,
   "id": "199aa550",
   "metadata": {},
   "outputs": [
    {
     "name": "stdout",
     "output_type": "stream",
     "text": [
      "<BioSimSpace.Residue: name='LIG', molecule=51970, index=0, nAtoms=34>\n"
     ]
    }
   ],
   "source": [
    "print(system.search('resname LIG')[0])"
   ]
  },
  {
   "cell_type": "code",
   "execution_count": 14,
   "id": "8eff858f",
   "metadata": {},
   "outputs": [
    {
     "name": "stdout",
     "output_type": "stream",
     "text": [
      "<BioSimSpace.SearchResult: nResults=0>\n"
     ]
    }
   ],
   "source": [
    "print(system.search(\"resnum 343\"))"
   ]
  },
  {
   "cell_type": "code",
   "execution_count": 25,
   "id": "c15d2887",
   "metadata": {},
   "outputs": [
    {
     "name": "stdout",
     "output_type": "stream",
     "text": [
      "<BioSimSpace.Residue: name='LIG', molecule=51970, index=0, nAtoms=34>\n"
     ]
    }
   ],
   "source": [
    "print(system.search(\"resnum 343\")[0])"
   ]
  },
  {
   "cell_type": "code",
   "execution_count": 15,
   "id": "828c174a",
   "metadata": {},
   "outputs": [
    {
     "name": "stdout",
     "output_type": "stream",
     "text": [
      "distres\t\t\t  mif_protein.pdb\tsystem_equilibrated.pdb\r\n",
      "equilibrate_system.ipynb  mif_protein.rst7\tsystem_equilibrated.prm7\r\n",
      "lig_param.pdb\t\t  MORPH.discharge.pert\tsystem_equilibrated.rst7\r\n",
      "lig_param.prm7\t\t  MORPH.vanish.pert\tSYSTEM.pdb\r\n",
      "lig_param.rst7\t\t  sim.cfg\t\tSYSTEM.top\r\n",
      "mif_protein.parm7\t  SYSTEM.crd\t\tUntitled.ipynb\r\n"
     ]
    }
   ],
   "source": [
    "!ls"
   ]
  },
  {
   "cell_type": "code",
   "execution_count": 17,
   "id": "90ed98f5",
   "metadata": {},
   "outputs": [
    {
     "data": {
      "application/vnd.jupyter.widget-view+json": {
       "model_id": "be8295c6afc848fba89b31385748d5b4",
       "version_major": 2,
       "version_minor": 0
      },
      "text/plain": []
     },
     "metadata": {},
     "output_type": "display_data"
    },
    {
     "data": {
      "application/vnd.jupyter.widget-view+json": {
       "model_id": "a5a488830a8b4de59448e9e90e7152d7",
       "version_major": 2,
       "version_minor": 0
      },
      "text/plain": [
       "ThemeManager()"
      ]
     },
     "metadata": {},
     "output_type": "display_data"
    },
    {
     "data": {
      "application/vnd.jupyter.widget-view+json": {
       "model_id": "3bb3e81c65d1487aa34d62593f264068",
       "version_major": 2,
       "version_minor": 0
      },
      "text/plain": [
       "NGLWidget(gui_style='ngl')"
      ]
     },
     "metadata": {},
     "output_type": "display_data"
    }
   ],
   "source": [
    "view = BSS.Notebook.View(system)\n",
    "view.system()"
   ]
  },
  {
   "cell_type": "code",
   "execution_count": 18,
   "id": "bc6e583d",
   "metadata": {},
   "outputs": [
    {
     "name": "stdout",
     "output_type": "stream",
     "text": [
      "<BioSimSpace.Residue: name='LIG', molecule=34648, index=0, nAtoms=34>\n"
     ]
    }
   ],
   "source": [
    "\n",
    "s = BSS.IO.readMolecules()\n",
    "\n",
    "print(s.search(\"resnum 343\")[0])\n"
   ]
  },
  {
   "cell_type": "code",
   "execution_count": null,
   "id": "cf51cb8c",
   "metadata": {},
   "outputs": [],
   "source": []
  }
 ],
 "metadata": {
  "kernelspec": {
   "display_name": "Python 3 (ipykernel)",
   "language": "python",
   "name": "python3"
  },
  "language_info": {
   "codemirror_mode": {
    "name": "ipython",
    "version": 3
   },
   "file_extension": ".py",
   "mimetype": "text/x-python",
   "name": "python",
   "nbconvert_exporter": "python",
   "pygments_lexer": "ipython3",
   "version": "3.7.8"
  }
 },
 "nbformat": 4,
 "nbformat_minor": 5
}
