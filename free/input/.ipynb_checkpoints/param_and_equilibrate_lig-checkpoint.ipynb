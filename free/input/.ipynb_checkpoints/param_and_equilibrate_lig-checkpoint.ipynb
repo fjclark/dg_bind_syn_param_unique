{
 "cells": [
  {
   "cell_type": "code",
   "execution_count": 1,
   "id": "d8506bb7",
   "metadata": {},
   "outputs": [
    {
     "name": "stdout",
     "output_type": "stream",
     "text": [
      "\n",
      "==============================================================\n",
      "Sending anonymous Sire usage statistics to http://siremol.org.\n",
      "For more information, see http://siremol.org/analytics\n",
      "To disable, set the environment variable 'SIRE_DONT_PHONEHOME' to 1\n",
      "To see the information sent, set the environment variable \n",
      "SIRE_VERBOSE_PHONEHOME equal to 1. To silence this message, set\n",
      "the environment variable SIRE_SILENT_PHONEHOME to 1.\n",
      "==============================================================\n",
      "\n"
     ]
    }
   ],
   "source": [
    "import BioSimSpace as BSS"
   ]
  },
  {
   "cell_type": "markdown",
   "id": "0268f20a",
   "metadata": {},
   "source": [
    "### Parameterise Ligand with GAFF 2 and Save"
   ]
  },
  {
   "cell_type": "code",
   "execution_count": 7,
   "id": "389ad625",
   "metadata": {},
   "outputs": [],
   "source": [
    "unparam_lig = BSS.IO.readMolecules('mif180_ligand.pdb')[0]"
   ]
  },
  {
   "cell_type": "code",
   "execution_count": 8,
   "id": "67934804",
   "metadata": {},
   "outputs": [],
   "source": [
    "lig = BSS.Parameters.gaff2(unparam_lig).getMolecule()"
   ]
  },
  {
   "cell_type": "code",
   "execution_count": 9,
   "id": "0fce4ff1",
   "metadata": {},
   "outputs": [
    {
     "data": {
      "text/plain": [
       "['/home/finlayclark/Documents/research/restraint_comparison_mif/testing/dg_bind_syn_param_unique/free/input/lig_param.prm7',\n",
       " '/home/finlayclark/Documents/research/restraint_comparison_mif/testing/dg_bind_syn_param_unique/free/input/lig_param.rst7',\n",
       " '/home/finlayclark/Documents/research/restraint_comparison_mif/testing/dg_bind_syn_param_unique/free/input/lig_param.pdb']"
      ]
     },
     "execution_count": 9,
     "metadata": {},
     "output_type": "execute_result"
    }
   ],
   "source": [
    "BSS.IO.saveMolecules('lig_param',lig,['PRM7','RST7','PDB'])"
   ]
  },
  {
   "cell_type": "markdown",
   "id": "37e02fb4",
   "metadata": {},
   "source": [
    "### Create and Save Solvated Ligand"
   ]
  },
  {
   "cell_type": "code",
   "execution_count": 21,
   "id": "eb8dcfe3",
   "metadata": {},
   "outputs": [],
   "source": [
    "lig_solvated = BSS.Solvent.tip3p(molecule=lig, box=3*[40*BSS.Units.Length.angstrom], ion_conc = 0.15)"
   ]
  },
  {
   "cell_type": "code",
   "execution_count": 22,
   "id": "6bf99a5c",
   "metadata": {},
   "outputs": [],
   "source": [
    "view = BSS.Notebook.View(lig_solvated)"
   ]
  },
  {
   "cell_type": "code",
   "execution_count": 23,
   "id": "8f8442a3",
   "metadata": {},
   "outputs": [
    {
     "data": {
      "application/vnd.jupyter.widget-view+json": {
       "model_id": "95b0a01339a346158353f15ab34577af",
       "version_major": 2,
       "version_minor": 0
      },
      "text/plain": [
       "NGLWidget(gui_style='ngl')"
      ]
     },
     "metadata": {},
     "output_type": "display_data"
    }
   ],
   "source": [
    "view.system()"
   ]
  },
  {
   "cell_type": "markdown",
   "id": "8e3ae8e6",
   "metadata": {},
   "source": [
    "## Minimisation"
   ]
  },
  {
   "cell_type": "code",
   "execution_count": 25,
   "id": "4061d19b",
   "metadata": {},
   "outputs": [],
   "source": [
    "minimisation_protocol = BSS.Protocol.Minimisation(steps = 1000)"
   ]
  },
  {
   "cell_type": "code",
   "execution_count": 26,
   "id": "2f7cd3e7",
   "metadata": {},
   "outputs": [],
   "source": [
    "minimisation_process = BSS.Process.Amber(lig_solvated, minimisation_protocol, exe = '/home/finlayclark/software/amber20/bin/pmemd')"
   ]
  },
  {
   "cell_type": "code",
   "execution_count": 27,
   "id": "8fd2d140",
   "metadata": {},
   "outputs": [
    {
     "data": {
      "text/plain": [
       "BioSimSpace.Process.Amber(<BioSimSpace.System: nMolecules=2154>, BioSimSpace.Protocol.Minimisation(steps=1000), exe='/home/finlayclark/software/amber20/bin/pmemd', name='amber', work_dir='/tmp/tmp77u2ju4n', seed=None)"
      ]
     },
     "execution_count": 27,
     "metadata": {},
     "output_type": "execute_result"
    }
   ],
   "source": [
    "minimisation_process.start()"
   ]
  },
  {
   "cell_type": "code",
   "execution_count": 31,
   "id": "48146c0a",
   "metadata": {},
   "outputs": [
    {
     "data": {
      "text/plain": [
       "[1.4424e+04 kcal/mol]"
      ]
     },
     "execution_count": 31,
     "metadata": {},
     "output_type": "execute_result"
    }
   ],
   "source": [
    "minimisation_process.getTotalEnergy(time_series=True)"
   ]
  },
  {
   "cell_type": "code",
   "execution_count": 33,
   "id": "5c53d9a4",
   "metadata": {},
   "outputs": [],
   "source": [
    "lig_solvated_minimised = minimisation_process.getSystem(block=True)"
   ]
  },
  {
   "cell_type": "code",
   "execution_count": 30,
   "id": "cd6502e8",
   "metadata": {},
   "outputs": [
    {
     "data": {
      "text/plain": [
       "['/home/finlayclark/Documents/research/restraint_comparison_mif/testing/somd_tut/system_solvated_minimised.prm7',\n",
       " '/home/finlayclark/Documents/research/restraint_comparison_mif/testing/somd_tut/system_solvated_minimised.rst7',\n",
       " '/home/finlayclark/Documents/research/restraint_comparison_mif/testing/somd_tut/system_solvated_minimised.pdb']"
      ]
     },
     "execution_count": 30,
     "metadata": {},
     "output_type": "execute_result"
    }
   ],
   "source": [
    "#BSS.IO.saveMolecules(\"lig_solvated_minimised\", system_solvated_minimised, [\"prm7\", \"rst7\",\"pdb\"])"
   ]
  },
  {
   "cell_type": "markdown",
   "id": "6a28956b",
   "metadata": {},
   "source": [
    "## Equilibration"
   ]
  },
  {
   "cell_type": "markdown",
   "id": "b2e1f4d8",
   "metadata": {},
   "source": [
    "#### PMEMD NVT equilibration for 5 ps while restraining all non-solvent atoms"
   ]
  },
  {
   "cell_type": "code",
   "execution_count": 34,
   "id": "be4e5895",
   "metadata": {},
   "outputs": [],
   "source": [
    "equil1_protocol = BSS.Protocol.Equilibration(\n",
    "                                runtime=5*BSS.Units.Time.picosecond, \n",
    "                                temperature_start=0*BSS.Units.Temperature.kelvin, \n",
    "                                temperature_end=300*BSS.Units.Temperature.kelvin,\n",
    "                                restraint=\"all\"\n",
    "                                )"
   ]
  },
  {
   "cell_type": "code",
   "execution_count": 35,
   "id": "e7394dd9",
   "metadata": {},
   "outputs": [],
   "source": [
    "equil1_process = BSS.Process.Amber(lig_solvated_minimised, equil1_protocol, exe = '/home/finlayclark/software/amber20/bin/pmemd')"
   ]
  },
  {
   "cell_type": "code",
   "execution_count": 37,
   "id": "ca3b7ac7",
   "metadata": {},
   "outputs": [],
   "source": [
    "equil1_process.start()"
   ]
  },
  {
   "cell_type": "code",
   "execution_count": 45,
   "id": "fca68496",
   "metadata": {},
   "outputs": [
    {
     "data": {
      "text/plain": [
       "False"
      ]
     },
     "execution_count": 45,
     "metadata": {},
     "output_type": "execute_result"
    }
   ],
   "source": [
    "equil1_process.isRunning()"
   ]
  },
  {
   "cell_type": "code",
   "execution_count": 46,
   "id": "84a09f38",
   "metadata": {},
   "outputs": [
    {
     "data": {
      "text/plain": [
       "[-2.9481e+04 kcal/mol]"
      ]
     },
     "execution_count": 46,
     "metadata": {},
     "output_type": "execute_result"
    }
   ],
   "source": [
    "equil1_process.getTotalEnergy(time_series=True)"
   ]
  },
  {
   "cell_type": "code",
   "execution_count": 47,
   "id": "84c5981a",
   "metadata": {},
   "outputs": [
    {
     "data": {
      "image/png": "[encoded data removed]",
      "text/plain": [
       "<Figure size 576x432 with 1 Axes>"
      ]
     },
     "metadata": {
      "needs_background": "light"
     },
     "output_type": "display_data"
    },
    {
     "data": {
      "image/png": "[encoded data removed]",
      "text/plain": [
       "<Figure size 576x432 with 1 Axes>"
      ]
     },
     "metadata": {
      "needs_background": "light"
     },
     "output_type": "display_data"
    }
   ],
   "source": [
    "# Generate a plot of time vs temperature.\n",
    "plot1 = BSS.Notebook.plot(equil1_process.getTime(time_series=True), equil1_process.getTemperature(time_series=True))\n",
    "\n",
    "# Generate a plot of time vs energy.\n",
    "plot2 = BSS.Notebook.plot(equil1_process.getTime(time_series=True), equil1_process.getTotalEnergy(time_series=True))"
   ]
  },
  {
   "cell_type": "code",
   "execution_count": 48,
   "id": "47c919fc",
   "metadata": {},
   "outputs": [],
   "source": [
    "system_equil1 = equil1_process.getSystem(block=True)"
   ]
  },
  {
   "cell_type": "markdown",
   "id": "45cf6811",
   "metadata": {},
   "source": [
    "#### PMEMD NVT equilibration for 5 ps without restraints"
   ]
  },
  {
   "cell_type": "code",
   "execution_count": 49,
   "id": "454899dd",
   "metadata": {},
   "outputs": [],
   "source": [
    "equil3_protocol = BSS.Protocol.Equilibration(\n",
    "                                runtime=5*BSS.Units.Time.picosecond, \n",
    "                                temperature_end=300*BSS.Units.Temperature.kelvin,\n",
    "                                )"
   ]
  },
  {
   "cell_type": "code",
   "execution_count": 50,
   "id": "5f873aa0",
   "metadata": {},
   "outputs": [],
   "source": [
    "equil3_process = BSS.Process.Amber(system_equil1, equil3_protocol, exe = '/home/finlayclark/software/amber20/bin/pmemd')"
   ]
  },
  {
   "cell_type": "code",
   "execution_count": 51,
   "id": "2b4073a5",
   "metadata": {},
   "outputs": [
    {
     "data": {
      "text/plain": [
       "BioSimSpace.Process.Amber(<BioSimSpace.System: nMolecules=2154>, BioSimSpace.Protocol.Equilibration(timestep=2.0000 fs, runtime=5.0000 ps, temperature_start=300.0000 K, temperature_end=300.0000 K, pressure=None, report_interval=100, restart_interval=500, restraint=None), exe='/home/finlayclark/software/amber20/bin/pmemd', name='amber', work_dir='/tmp/tmp6fcvwqmm', seed=None)"
      ]
     },
     "execution_count": 51,
     "metadata": {},
     "output_type": "execute_result"
    }
   ],
   "source": [
    "equil3_process.start()"
   ]
  },
  {
   "cell_type": "code",
   "execution_count": 56,
   "id": "940badda",
   "metadata": {},
   "outputs": [
    {
     "data": {
      "text/plain": [
       "True"
      ]
     },
     "execution_count": 56,
     "metadata": {},
     "output_type": "execute_result"
    }
   ],
   "source": [
    "equil3_process.isRunning()"
   ]
  },
  {
   "cell_type": "code",
   "execution_count": 60,
   "id": "ab0cd54f",
   "metadata": {},
   "outputs": [
    {
     "data": {
      "text/plain": [
       "[-2.2903e+04 kcal/mol]"
      ]
     },
     "execution_count": 60,
     "metadata": {},
     "output_type": "execute_result"
    }
   ],
   "source": [
    "equil3_process.getTotalEnergy(time_series=True)"
   ]
  },
  {
   "cell_type": "code",
   "execution_count": 58,
   "id": "84960018",
   "metadata": {},
   "outputs": [
    {
     "data": {
      "image/png": "[encoded data removed]",
      "text/plain": [
       "<Figure size 576x432 with 1 Axes>"
      ]
     },
     "metadata": {
      "needs_background": "light"
     },
     "output_type": "display_data"
    },
    {
     "data": {
      "image/png": "[encoded data removed]",
      "text/plain": [
       "<Figure size 576x432 with 1 Axes>"
      ]
     },
     "metadata": {
      "needs_background": "light"
     },
     "output_type": "display_data"
    }
   ],
   "source": [
    "# Generate a plot of time vs temperature.\n",
    "plot1 = BSS.Notebook.plot(equil3_process.getTime(time_series=True), equil3_process.getTemperature(time_series=True))\n",
    "\n",
    "# Generate a plot of time vs energy.\n",
    "plot2 = BSS.Notebook.plot(equil3_process.getTime(time_series=True), equil3_process.getTotalEnergy(time_series=True))"
   ]
  },
  {
   "cell_type": "code",
   "execution_count": 59,
   "id": "2c985748",
   "metadata": {},
   "outputs": [],
   "source": [
    "system_equil3 = equil3_process.getSystem(block=True)"
   ]
  },
  {
   "cell_type": "markdown",
   "id": "c2de8397",
   "metadata": {},
   "source": [
    "#### PMEMD NPT equilibration for 400 ps without restraints"
   ]
  },
  {
   "cell_type": "code",
   "execution_count": 62,
   "id": "445c03ef",
   "metadata": {},
   "outputs": [],
   "source": [
    "equil5_protocol = BSS.Protocol.Equilibration(\n",
    "                                runtime=400*BSS.Units.Time.picosecond, \n",
    "                                pressure=1*BSS.Units.Pressure.atm,\n",
    "                                temperature=300*BSS.Units.Temperature.kelvin)"
   ]
  },
  {
   "cell_type": "code",
   "execution_count": 64,
   "id": "396062c4",
   "metadata": {},
   "outputs": [],
   "source": [
    "equil5_process = BSS.Process.Amber(system_equil3, equil5_protocol, exe = '/home/finlayclark/software/amber20/bin/pmemd.cuda')"
   ]
  },
  {
   "cell_type": "code",
   "execution_count": 66,
   "id": "96464410",
   "metadata": {},
   "outputs": [],
   "source": [
    "equil5_process.start()"
   ]
  },
  {
   "cell_type": "code",
   "execution_count": 67,
   "id": "a16f3258",
   "metadata": {},
   "outputs": [
    {
     "data": {
      "text/plain": [
       "True"
      ]
     },
     "execution_count": 67,
     "metadata": {},
     "output_type": "execute_result"
    }
   ],
   "source": [
    "equil5_process.isRunning()"
   ]
  },
  {
   "cell_type": "code",
   "execution_count": 73,
   "id": "d0c23783",
   "metadata": {},
   "outputs": [
    {
     "data": {
      "text/plain": [
       "-1.7626e+04 kcal/mol"
      ]
     },
     "execution_count": 73,
     "metadata": {},
     "output_type": "execute_result"
    }
   ],
   "source": [
    "equil5_process.getTotalEnergy()"
   ]
  },
  {
   "cell_type": "code",
   "execution_count": 74,
   "id": "51af5a1b",
   "metadata": {},
   "outputs": [
    {
     "data": {
      "image/png": "[encoded data removed]",
      "text/plain": [
       "<Figure size 576x432 with 1 Axes>"
      ]
     },
     "metadata": {
      "needs_background": "light"
     },
     "output_type": "display_data"
    },
    {
     "data": {
      "image/png": "[encoded data removed]",
      "text/plain": [
       "<Figure size 576x432 with 1 Axes>"
      ]
     },
     "metadata": {
      "needs_background": "light"
     },
     "output_type": "display_data"
    },
    {
     "data": {
      "image/png": "[encoded data removed]",
      "text/plain": [
       "<Figure size 576x432 with 1 Axes>"
      ]
     },
     "metadata": {
      "needs_background": "light"
     },
     "output_type": "display_data"
    }
   ],
   "source": [
    "# Generate a plot of time vs temperature.\n",
    "plot1 = BSS.Notebook.plot(equil5_process.getTime(time_series=True), equil5_process.getTemperature(time_series=True))\n",
    "\n",
    "# Generate a plot of time vs energy.\n",
    "plot2 = BSS.Notebook.plot(equil5_process.getTime(time_series=True), equil5_process.getTotalEnergy(time_series=True))\n",
    "\n",
    "# Generate a plot of time vs volume.\n",
    "plot2 = BSS.Notebook.plot(equil5_process.getTime(time_series=True), equil5_process.getVolume(time_series=True))"
   ]
  },
  {
   "cell_type": "code",
   "execution_count": 71,
   "id": "acd32350",
   "metadata": {},
   "outputs": [],
   "source": [
    "lig_solvated_equil_final = equil5_process.getSystem(block=True)"
   ]
  },
  {
   "cell_type": "code",
   "execution_count": 75,
   "id": "a5cb5ca2",
   "metadata": {},
   "outputs": [
    {
     "data": {
      "text/plain": [
       "['/home/finlayclark/Documents/research/restraint_comparison_mif/testing/dg_bind_syn_param_unique/free/input/lig_solvated_equilibrated.prm7',\n",
       " '/home/finlayclark/Documents/research/restraint_comparison_mif/testing/dg_bind_syn_param_unique/free/input/lig_solvated_equilibrated.rst7',\n",
       " '/home/finlayclark/Documents/research/restraint_comparison_mif/testing/dg_bind_syn_param_unique/free/input/lig_solvated_equilibrated.pdb']"
      ]
     },
     "execution_count": 75,
     "metadata": {},
     "output_type": "execute_result"
    }
   ],
   "source": [
    "BSS.IO.saveMolecules(\"lig_solvated_equilibrated\", lig_solvated_equil_final, [\"prm7\", \"rst7\", \"pdb\"])"
   ]
  },
  {
   "cell_type": "code",
   "execution_count": 77,
   "id": "e5abe374",
   "metadata": {},
   "outputs": [
    {
     "data": {
      "application/vnd.jupyter.widget-view+json": {
       "model_id": "78d4aa1d72184ba9a7ad1d86526a86a0",
       "version_major": 2,
       "version_minor": 0
      },
      "text/plain": [
       "NGLWidget(gui_style='ngl')"
      ]
     },
     "metadata": {},
     "output_type": "display_data"
    }
   ],
   "source": [
    "view = BSS.Notebook.View(lig_solvated_equil_final)\n",
    "view.molecule(0)"
   ]
  },
  {
   "cell_type": "code",
   "execution_count": null,
   "id": "3b17b73a",
   "metadata": {},
   "outputs": [],
   "source": []
  }
 ],
 "metadata": {
  "kernelspec": {
   "display_name": "Python 3 (ipykernel)",
   "language": "python",
   "name": "python3"
  },
  "language_info": {
   "codemirror_mode": {
    "name": "ipython",
    "version": 3
   },
   "file_extension": ".py",
   "mimetype": "text/x-python",
   "name": "python",
   "nbconvert_exporter": "python",
   "pygments_lexer": "ipython3",
   "version": "3.7.8"
  }
 },
 "nbformat": 4,
 "nbformat_minor": 5
}
